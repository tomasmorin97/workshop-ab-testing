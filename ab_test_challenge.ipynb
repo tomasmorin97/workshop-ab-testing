{
 "cells": [
  {
   "cell_type": "markdown",
   "id": "5809e45c",
   "metadata": {},
   "source": [
    "# A/B Test Challenge\n",
    "\n",
    "\n",
    "\n",
    "---\n",
    "\n",
    "#### What is an A/B Test? \n",
    "\n",
    "It is a decision making support & research methodology that allow you to measure an impact of a change in a product (e.g.: a digital product). For this challenge you will analyse the data resulting of an A/B test performed on a digital product where a new set of sponsored ads are included.\n",
    "\n",
    "\n",
    "#### Measure of success\n",
    "\n",
    "Metrics are needed to measure the success of your product. They are typically split in the following categories: \n",
    "\n",
    "- __Enganged based metrics:__ number of users, number of downloads, number of active users, user retention, etc.\n",
    "\n",
    "- __Revenue and monetization metrics:__ ads and affiliate links, subscription-based, in-app purchases, etc.\n",
    "\n",
    "- __Technical metrics:__ service level indicators (uptime of the app, downtime of the app, latency).\n",
    "\n"
   ]
  },
  {
   "cell_type": "markdown",
   "id": "37beb756",
   "metadata": {},
   "source": [
    "---\n",
    "\n",
    "## Metrics understanding\n",
    "\n",
    "In this part you must analyse the metrics involved in the test. We will focus in the following metrics:\n",
    "\n",
    "- Activity level + Daily active users (DAU).\n",
    "\n",
    "- Click-through rate (CTR)"
   ]
  },
  {
   "cell_type": "markdown",
   "id": "1656e9f4",
   "metadata": {},
   "source": [
    "### Activity level\n",
    "\n",
    "In the following part you must perform every calculation you consider necessary in order to answer the following questions:\n",
    "\n",
    "- How many activity levels you can find in the dataset (Activity level of zero means no activity).\n",
    "\n",
    "- What is the amount of users for each activity level.\n",
    "\n",
    "- How many activity levels do you have per day and how many records per each activity level.\n",
    "\n",
    "At the end of this section you must provide your conclusions about the _activity level_ of the users.\n",
    "\n",
    "__Dataset:__ `activity_pretest.csv`"
   ]
  },
  {
   "cell_type": "code",
   "execution_count": null,
   "id": "de84845b",
   "metadata": {},
   "outputs": [],
   "source": [
    "# import libraries:\n",
    "import pandas as pd\n",
    "import os"
   ]
  },
  {
   "cell_type": "code",
   "execution_count": null,
   "id": "560a5c8f",
   "metadata": {},
   "outputs": [],
   "source": [
    "\n",
    "# Import datasets\n",
    "content = os.listdir('./data/')\n",
    "\n",
    "# With this function I can extract all of datasets in diferent dataframes. In order to understand each dataframe, I will \n",
    "# print the name, columns name and shape of each dataframe.\n",
    "for name_file in content:\n",
    "    name_df = name_file.split('.')[0] + '_df'\n",
    "    exec(f'{name_df} = pd.read_csv(f\"./data/{name_file}\", sep=\",\")')\n",
    "    exec(f'columns_name = {name_df}.columns.values')\n",
    "    exec(f'shape = {name_df}.shape')\n",
    "    print(name_df,'| columns names: ', columns_name, '| df shape: ', shape)\n"
   ]
  },
  {
   "cell_type": "code",
   "execution_count": null,
   "id": "0369cee9",
   "metadata": {},
   "outputs": [],
   "source": [
    "# How many activity levels you can find in the dataset (Activity level of zero means no activity).\n",
    "len(activity_pretest_df['activity_level'].unique())"
   ]
  },
  {
   "cell_type": "code",
   "execution_count": null,
   "id": "080d57fe",
   "metadata": {},
   "outputs": [],
   "source": [
    "# What is the amount of users for each activity level.\n",
    "activity_levels = activity_pretest_df.groupby('activity_level').nunique()['userid']\n",
    "activity_levels"
   ]
  },
  {
   "cell_type": "code",
   "execution_count": null,
   "id": "c5e73cd0",
   "metadata": {},
   "outputs": [],
   "source": [
    "### How many activity levels do you have per day and how many records per each activity level.\n",
    "activity_pretest_df.groupby('dt').sum()['activity_level']"
   ]
  },
  {
   "cell_type": "code",
   "execution_count": null,
   "id": "54e50977",
   "metadata": {},
   "outputs": [],
   "source": [
    "activity_pretest_df.groupby('activity_level').count()['userid']"
   ]
  },
  {
   "cell_type": "markdown",
   "id": "2a033f4f",
   "metadata": {},
   "source": [
    "### Daily active users (DAU)\n",
    "\n",
    "![ab_test](./img/user_activity_ab_testing.JPG)\n",
    "\n",
    "\n",
    "The daily active users (DAU) refers to the amount of users that are active per day (activity level of zero means no activity). You must perform the calculation of this metric and provide your insights about it.\n",
    "\n",
    "__Dataset:__ `activity_pretest.csv`"
   ]
  },
  {
   "cell_type": "code",
   "execution_count": null,
   "id": "38006d00",
   "metadata": {},
   "outputs": [],
   "source": [
    "# your-code\n",
    "activity_pretest_df_filter = activity_pretest_df[activity_pretest_df['activity_level'] != 0]\n",
    "activity_pretest_df_filter.groupby('dt').count()['userid']"
   ]
  },
  {
   "cell_type": "markdown",
   "id": "9f2b985c",
   "metadata": {},
   "source": [
    "### Click-through rate (CTR)\n",
    "\n",
    "![ab_test](./img/ad_click_through_rate_ab_testing.JPG)\n",
    "\n",
    "Click-through rate (CTR) refers to the percentage of clicks that the user perform from the total amount ads showed to that user during a certain day. You must perform the analysis of this metric (e.g.: average CTR per day) and provide your insights about it.\n",
    "\n",
    "__Dataset:__ `ctr_pretest.csv`"
   ]
  },
  {
   "cell_type": "code",
   "execution_count": null,
   "id": "7959450f",
   "metadata": {},
   "outputs": [],
   "source": [
    "# your-code\n",
    "ctr = pd.read_csv('data/ctr_pretest.csv')\n",
    "ctr"
   ]
  },
  {
   "cell_type": "code",
   "execution_count": null,
   "id": "163b3c5b",
   "metadata": {},
   "outputs": [],
   "source": [
    "ctr.groupby(['dt']).mean('ctr').sort_values(by='ctr', ascending=False)\n",
    "# La media está en torno a 33"
   ]
  },
  {
   "cell_type": "markdown",
   "id": "2303aae2",
   "metadata": {},
   "source": [
    "---\n",
    "\n",
    "## Pretest metrics \n",
    "\n",
    "In this section you will perform the analysis of the metrics using the dataset that includes the result for the test and control groups, but only for the pretest data (i.e.: prior to November 1st, 2021). You must provide insights about the metrics (__Activity level__, __DAU__ and __CTR__) and also perform an hyphotesis test in order to determine whether there is any statistical significant difference between the groups prior to the start of the experiment. You must try different approaches (i.e.: __z-test__ and __t-test__) and compare the results.\n",
    "\n",
    "\n",
    "__Datasets:__ `activity_all.csv`, `ctr_all.csv`"
   ]
  },
  {
   "cell_type": "code",
   "execution_count": null,
   "id": "774243f2",
   "metadata": {},
   "outputs": [],
   "source": [
    "activity_pretest_df.head()"
   ]
  },
  {
   "cell_type": "code",
   "execution_count": null,
   "id": "927401e0",
   "metadata": {},
   "outputs": [],
   "source": [
    "# Calculate metrics for activity data\n",
    "activity_metrics = activity_pretest_df.groupby('dt')['activity_level'].mean()\n",
    "\n",
    "# Calculate metrics for CTR data\n",
    "ctr_metrics = ctr_pretest_df.groupby('dt')['ctr'].mean()\n",
    "\n",
    "# Print the metrics\n",
    "print(\"Activity Metrics:\")\n",
    "print(activity_metrics)\n",
    "\n",
    "print(\"\\nCTR Metrics:\")\n",
    "print(ctr_metrics)\n"
   ]
  },
  {
   "cell_type": "code",
   "execution_count": null,
   "id": "a9c93f95",
   "metadata": {},
   "outputs": [],
   "source": [
    "from scipy.stats import ttest_ind, zscore\n",
    "\n",
    "# Separate test and control groups\n",
    "# No sé hacerlo\n",
    "\n",
    "# Perform t-test\n",
    "t_stat, t_p_value = ttest_ind(test_group, control_group, equal_var=False)\n",
    "\n",
    "# Perform z-test\n",
    "z_stat, z_p_value = zscore(test_group - control_group)\n",
    "\n",
    "# Print the results\n",
    "print(f\"T-Test Result: T-statistic = {t_stat}, P-value = {t_p_value}\")\n",
    "print(f\"Z-Test Result: Z-statistic = {z_stat}, P-value = {z_p_value}\")\n"
   ]
  },
  {
   "cell_type": "markdown",
   "id": "f8a51d75",
   "metadata": {},
   "source": [
    "---\n",
    "\n",
    "## Experiment metrics \n",
    "\n",
    "In this section you must perform the same analysis as in the previous section, but using the data generated during the experiment (i.e.: after November 1st, 2021). You must provide insights about the metrics (__Activity level__, __DAU__ and __CTR__) and also perform an hyphotesis test in order to determine whether there is any statistical significant difference between the groups during the experiment. You must try different approaches (i.e.: __z-test__ and __t-test__) and compare the results.\n",
    "\n",
    "\n",
    "__Datasets:__ `activity_all.csv`, `ctr_all.csv`"
   ]
  },
  {
   "cell_type": "code",
   "execution_count": null,
   "id": "99892d68",
   "metadata": {},
   "outputs": [],
   "source": [
    "# your-code\n",
    "\n",
    "\n"
   ]
  },
  {
   "cell_type": "markdown",
   "id": "1ea6cd70",
   "metadata": {},
   "source": [
    "---\n",
    "\n",
    "## Conclusions\n",
    "\n",
    "Please provide your conclusions after the analyses and your recommendation whether we may or may not implement the changes in the digital product."
   ]
  },
  {
   "cell_type": "code",
   "execution_count": null,
   "id": "e04b3a04",
   "metadata": {},
   "outputs": [],
   "source": [
    "# your-conclusions\n",
    "\n",
    "\n"
   ]
  },
  {
   "cell_type": "markdown",
   "id": "4c014b7f",
   "metadata": {},
   "source": [
    "---"
   ]
  }
 ],
 "metadata": {
  "kernelspec": {
   "display_name": "Python (m2_env)",
   "language": "python",
   "name": "m2_env"
  },
  "language_info": {
   "codemirror_mode": {
    "name": "ipython",
    "version": 3
   },
   "file_extension": ".py",
   "mimetype": "text/x-python",
   "name": "python",
   "nbconvert_exporter": "python",
   "pygments_lexer": "ipython3",
   "version": "3.8.18"
  }
 },
 "nbformat": 4,
 "nbformat_minor": 5
}
